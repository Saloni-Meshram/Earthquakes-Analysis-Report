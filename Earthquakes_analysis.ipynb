{
 "cells": [
  {
   "cell_type": "markdown",
   "id": "9f459f9b",
   "metadata": {},
   "source": [
    "# Earthquakes Alerts Tweets Dataset Analysis:"
   ]
  },
  {
   "cell_type": "markdown",
   "id": "3e7cb7d2",
   "metadata": {},
   "source": [
    "We have a Dataset on Worldwide earthquake alerts based on USGS data of earthquakes of 1.5 magnitude and higher.\n",
    "It is collected from the public tweets by Earthquakes Alerts Twitter. The Data is collected from date Feb-16-2023 and updated upto June-4-2023. "
   ]
  },
  {
   "cell_type": "markdown",
   "id": "f0cf387c",
   "metadata": {},
   "source": [
    "We will analyse this dataset and draw some useful insights by using a Data Visualization tool named Power Bi desktop."
   ]
  },
  {
   "cell_type": "code",
   "execution_count": 112,
   "id": "e20efdc9",
   "metadata": {},
   "outputs": [],
   "source": [
    "import numpy as np\n",
    "import pandas as pd\n",
    "import matplotlib.pyplot as plt"
   ]
  },
  {
   "cell_type": "code",
   "execution_count": 113,
   "id": "bb898e31",
   "metadata": {},
   "outputs": [],
   "source": [
    "df = pd.read_csv(\"QuakesToday.csv\")"
   ]
  },
  {
   "cell_type": "code",
   "execution_count": 114,
   "id": "386f2c43",
   "metadata": {},
   "outputs": [
    {
     "data": {
      "text/html": [
       "<div>\n",
       "<style scoped>\n",
       "    .dataframe tbody tr th:only-of-type {\n",
       "        vertical-align: middle;\n",
       "    }\n",
       "\n",
       "    .dataframe tbody tr th {\n",
       "        vertical-align: top;\n",
       "    }\n",
       "\n",
       "    .dataframe thead th {\n",
       "        text-align: right;\n",
       "    }\n",
       "</style>\n",
       "<table border=\"1\" class=\"dataframe\">\n",
       "  <thead>\n",
       "    <tr style=\"text-align: right;\">\n",
       "      <th></th>\n",
       "      <th>Datetime</th>\n",
       "      <th>Tweet Id</th>\n",
       "      <th>Text</th>\n",
       "      <th>Username</th>\n",
       "    </tr>\n",
       "  </thead>\n",
       "  <tbody>\n",
       "    <tr>\n",
       "      <th>0</th>\n",
       "      <td>2023-06-04 22:55:03+00:00</td>\n",
       "      <td>1665492389220487168</td>\n",
       "      <td>1.6 magnitude #earthquake. 38 km from Valdez, ...</td>\n",
       "      <td>QuakesToday</td>\n",
       "    </tr>\n",
       "    <tr>\n",
       "      <th>1</th>\n",
       "      <td>2023-06-04 22:40:03+00:00</td>\n",
       "      <td>1665488613130514432</td>\n",
       "      <td>1.7 magnitude #earthquake. 84 km ESE of Egegik...</td>\n",
       "      <td>QuakesToday</td>\n",
       "    </tr>\n",
       "    <tr>\n",
       "      <th>2</th>\n",
       "      <td>2023-06-04 22:23:03+00:00</td>\n",
       "      <td>1665484336316174339</td>\n",
       "      <td>5.0 magnitude #earthquake. 122 km from Itoman,...</td>\n",
       "      <td>QuakesToday</td>\n",
       "    </tr>\n",
       "    <tr>\n",
       "      <th>3</th>\n",
       "      <td>2023-06-04 21:03:03+00:00</td>\n",
       "      <td>1665464203505975296</td>\n",
       "      <td>4.4 magnitude #earthquake. 222 km SSW of Dunhu...</td>\n",
       "      <td>QuakesToday</td>\n",
       "    </tr>\n",
       "    <tr>\n",
       "      <th>4</th>\n",
       "      <td>2023-06-04 20:27:03+00:00</td>\n",
       "      <td>1665455143066963968</td>\n",
       "      <td>4.1 magnitude #earthquake. 8 km from Abricots,...</td>\n",
       "      <td>QuakesToday</td>\n",
       "    </tr>\n",
       "  </tbody>\n",
       "</table>\n",
       "</div>"
      ],
      "text/plain": [
       "                    Datetime             Tweet Id  \\\n",
       "0  2023-06-04 22:55:03+00:00  1665492389220487168   \n",
       "1  2023-06-04 22:40:03+00:00  1665488613130514432   \n",
       "2  2023-06-04 22:23:03+00:00  1665484336316174339   \n",
       "3  2023-06-04 21:03:03+00:00  1665464203505975296   \n",
       "4  2023-06-04 20:27:03+00:00  1665455143066963968   \n",
       "\n",
       "                                                Text     Username  \n",
       "0  1.6 magnitude #earthquake. 38 km from Valdez, ...  QuakesToday  \n",
       "1  1.7 magnitude #earthquake. 84 km ESE of Egegik...  QuakesToday  \n",
       "2  5.0 magnitude #earthquake. 122 km from Itoman,...  QuakesToday  \n",
       "3  4.4 magnitude #earthquake. 222 km SSW of Dunhu...  QuakesToday  \n",
       "4  4.1 magnitude #earthquake. 8 km from Abricots,...  QuakesToday  "
      ]
     },
     "execution_count": 114,
     "metadata": {},
     "output_type": "execute_result"
    }
   ],
   "source": [
    "df.head()"
   ]
  },
  {
   "cell_type": "code",
   "execution_count": 115,
   "id": "d9fe8066",
   "metadata": {},
   "outputs": [
    {
     "data": {
      "text/plain": [
       "(13049, 4)"
      ]
     },
     "execution_count": 115,
     "metadata": {},
     "output_type": "execute_result"
    }
   ],
   "source": [
    "df.shape"
   ]
  },
  {
   "cell_type": "markdown",
   "id": "907ae7c7",
   "metadata": {},
   "source": [
    "##  Handling the Dataset"
   ]
  },
  {
   "cell_type": "markdown",
   "id": "05b1d311",
   "metadata": {},
   "source": [
    "As we can see, more than one type of data is given in the 'Text' column.  "
   ]
  },
  {
   "cell_type": "markdown",
   "id": "f2f87752",
   "metadata": {},
   "source": [
    "So, firstly we will have to seperate this data into different columns."
   ]
  },
  {
   "cell_type": "markdown",
   "id": "1956c18c",
   "metadata": {},
   "source": [
    "To do so, I'll be creating three new columns such as 'Magnitude', 'Area', 'Country' and 'Source' to seperate the respective value from 'Text' column."
   ]
  },
  {
   "cell_type": "markdown",
   "id": "313065bd",
   "metadata": {},
   "source": [
    "- __'Magnitude'__ - Stores the integer value of the magnitude of earthquakes.\n",
    "- __'Area'__ - Contains the area in which the earthquake was experienced.\n",
    "- __'Source'__ - Contains the link of the source from which the data is taken.\n",
    "- __'Country'__ - Contains the country where earthquake was experienced."
   ]
  },
  {
   "cell_type": "code",
   "execution_count": 116,
   "id": "b64a8488",
   "metadata": {},
   "outputs": [],
   "source": [
    "df[\"Text\"] = df[\"Text\".split(\",\")]"
   ]
  },
  {
   "cell_type": "code",
   "execution_count": 117,
   "id": "db5a1012",
   "metadata": {},
   "outputs": [],
   "source": [
    "df[\"Magnitude\"] = df[\"Text\"].str.split(\" mag\").str[0]\n",
    "df[\"Area\"] = df[\"Text\"].str.split(\"quake. \").str[1]\n",
    "df[\"Source\"] = df[\"Area\"].str.split(\"https\").str[1]\n",
    "df[\"Area\"] = df[\"Area\"].str.split(\"https\").str[0]\n"
   ]
  },
  {
   "cell_type": "markdown",
   "id": "d88924ab",
   "metadata": {},
   "source": [
    "I will manipulate the data in newly created columns to get the correct type of data."
   ]
  },
  {
   "cell_type": "markdown",
   "id": "decf3811",
   "metadata": {},
   "source": [
    "For that, I'll add 'https' to each entry in Source column which was skipped while splitting. \n",
    "Also, I'll delete all the '#' from the data in Country column."
   ]
  },
  {
   "cell_type": "code",
   "execution_count": 118,
   "id": "e1801b17",
   "metadata": {},
   "outputs": [],
   "source": [
    "df[\"Country\"] = df[\"Area\"].str.rsplit(\",\", 1).str[1]\n",
    "df[\"Area\"] = df[\"Area\"].str.split(\",\", 1).str[0]\n",
    "\n",
    "df[\"Source\"] = df[\"Source\"].apply(lambda x: \"https\" + x)\n",
    "df[\"Country\"] = df[\"Country\"].str.replace(\"#\", \"\")"
   ]
  },
  {
   "cell_type": "code",
   "execution_count": 119,
   "id": "0279d880",
   "metadata": {},
   "outputs": [
    {
     "data": {
      "text/html": [
       "<div>\n",
       "<style scoped>\n",
       "    .dataframe tbody tr th:only-of-type {\n",
       "        vertical-align: middle;\n",
       "    }\n",
       "\n",
       "    .dataframe tbody tr th {\n",
       "        vertical-align: top;\n",
       "    }\n",
       "\n",
       "    .dataframe thead th {\n",
       "        text-align: right;\n",
       "    }\n",
       "</style>\n",
       "<table border=\"1\" class=\"dataframe\">\n",
       "  <thead>\n",
       "    <tr style=\"text-align: right;\">\n",
       "      <th></th>\n",
       "      <th>Datetime</th>\n",
       "      <th>Tweet Id</th>\n",
       "      <th>Text</th>\n",
       "      <th>Username</th>\n",
       "      <th>Magnitude</th>\n",
       "      <th>Area</th>\n",
       "      <th>Source</th>\n",
       "      <th>Country</th>\n",
       "    </tr>\n",
       "  </thead>\n",
       "  <tbody>\n",
       "    <tr>\n",
       "      <th>0</th>\n",
       "      <td>2023-06-04 22:55:03+00:00</td>\n",
       "      <td>1665492389220487168</td>\n",
       "      <td>1.6 magnitude #earthquake. 38 km from Valdez, ...</td>\n",
       "      <td>QuakesToday</td>\n",
       "      <td>1.6</td>\n",
       "      <td>38 km from Valdez</td>\n",
       "      <td>https://t.co/kXHXTDgnNx</td>\n",
       "      <td>UnitedStates</td>\n",
       "    </tr>\n",
       "    <tr>\n",
       "      <th>1</th>\n",
       "      <td>2023-06-04 22:40:03+00:00</td>\n",
       "      <td>1665488613130514432</td>\n",
       "      <td>1.7 magnitude #earthquake. 84 km ESE of Egegik...</td>\n",
       "      <td>QuakesToday</td>\n",
       "      <td>1.7</td>\n",
       "      <td>84 km ESE of Egegik</td>\n",
       "      <td>https://t.co/Sdx0vUplys</td>\n",
       "      <td>Alaska</td>\n",
       "    </tr>\n",
       "    <tr>\n",
       "      <th>2</th>\n",
       "      <td>2023-06-04 22:23:03+00:00</td>\n",
       "      <td>1665484336316174339</td>\n",
       "      <td>5.0 magnitude #earthquake. 122 km from Itoman,...</td>\n",
       "      <td>QuakesToday</td>\n",
       "      <td>5.0</td>\n",
       "      <td>122 km from Itoman</td>\n",
       "      <td>https://t.co/lOyz1MVMIE</td>\n",
       "      <td>Japan</td>\n",
       "    </tr>\n",
       "    <tr>\n",
       "      <th>3</th>\n",
       "      <td>2023-06-04 21:03:03+00:00</td>\n",
       "      <td>1665464203505975296</td>\n",
       "      <td>4.4 magnitude #earthquake. 222 km SSW of Dunhu...</td>\n",
       "      <td>QuakesToday</td>\n",
       "      <td>4.4</td>\n",
       "      <td>222 km SSW of Dunhuang</td>\n",
       "      <td>https://t.co/PRolgouAiG</td>\n",
       "      <td>China</td>\n",
       "    </tr>\n",
       "    <tr>\n",
       "      <th>4</th>\n",
       "      <td>2023-06-04 20:27:03+00:00</td>\n",
       "      <td>1665455143066963968</td>\n",
       "      <td>4.1 magnitude #earthquake. 8 km from Abricots,...</td>\n",
       "      <td>QuakesToday</td>\n",
       "      <td>4.1</td>\n",
       "      <td>8 km from Abricots</td>\n",
       "      <td>https://t.co/XJta3g29Mu</td>\n",
       "      <td>Haiti</td>\n",
       "    </tr>\n",
       "  </tbody>\n",
       "</table>\n",
       "</div>"
      ],
      "text/plain": [
       "                    Datetime             Tweet Id  \\\n",
       "0  2023-06-04 22:55:03+00:00  1665492389220487168   \n",
       "1  2023-06-04 22:40:03+00:00  1665488613130514432   \n",
       "2  2023-06-04 22:23:03+00:00  1665484336316174339   \n",
       "3  2023-06-04 21:03:03+00:00  1665464203505975296   \n",
       "4  2023-06-04 20:27:03+00:00  1665455143066963968   \n",
       "\n",
       "                                                Text     Username Magnitude  \\\n",
       "0  1.6 magnitude #earthquake. 38 km from Valdez, ...  QuakesToday       1.6   \n",
       "1  1.7 magnitude #earthquake. 84 km ESE of Egegik...  QuakesToday       1.7   \n",
       "2  5.0 magnitude #earthquake. 122 km from Itoman,...  QuakesToday       5.0   \n",
       "3  4.4 magnitude #earthquake. 222 km SSW of Dunhu...  QuakesToday       4.4   \n",
       "4  4.1 magnitude #earthquake. 8 km from Abricots,...  QuakesToday       4.1   \n",
       "\n",
       "                     Area                   Source         Country  \n",
       "0       38 km from Valdez  https://t.co/kXHXTDgnNx   UnitedStates   \n",
       "1     84 km ESE of Egegik  https://t.co/Sdx0vUplys         Alaska   \n",
       "2      122 km from Itoman  https://t.co/lOyz1MVMIE          Japan   \n",
       "3  222 km SSW of Dunhuang  https://t.co/PRolgouAiG          China   \n",
       "4      8 km from Abricots  https://t.co/XJta3g29Mu          Haiti   "
      ]
     },
     "execution_count": 119,
     "metadata": {},
     "output_type": "execute_result"
    }
   ],
   "source": [
    "df.head()"
   ]
  },
  {
   "cell_type": "code",
   "execution_count": 120,
   "id": "681359ba",
   "metadata": {},
   "outputs": [
    {
     "data": {
      "text/html": [
       "<div>\n",
       "<style scoped>\n",
       "    .dataframe tbody tr th:only-of-type {\n",
       "        vertical-align: middle;\n",
       "    }\n",
       "\n",
       "    .dataframe tbody tr th {\n",
       "        vertical-align: top;\n",
       "    }\n",
       "\n",
       "    .dataframe thead th {\n",
       "        text-align: right;\n",
       "    }\n",
       "</style>\n",
       "<table border=\"1\" class=\"dataframe\">\n",
       "  <thead>\n",
       "    <tr style=\"text-align: right;\">\n",
       "      <th></th>\n",
       "      <th>Datetime</th>\n",
       "      <th>Tweet Id</th>\n",
       "      <th>Text</th>\n",
       "      <th>Username</th>\n",
       "      <th>Magnitude</th>\n",
       "      <th>Area</th>\n",
       "      <th>Source</th>\n",
       "      <th>Country</th>\n",
       "      <th>Date</th>\n",
       "      <th>Time</th>\n",
       "    </tr>\n",
       "  </thead>\n",
       "  <tbody>\n",
       "    <tr>\n",
       "      <th>0</th>\n",
       "      <td>2023-06-04 22:55:03+00:00</td>\n",
       "      <td>1665492389220487168</td>\n",
       "      <td>1.6 magnitude #earthquake. 38 km from Valdez, ...</td>\n",
       "      <td>QuakesToday</td>\n",
       "      <td>1.6</td>\n",
       "      <td>38 km from Valdez</td>\n",
       "      <td>https://t.co/kXHXTDgnNx</td>\n",
       "      <td>UnitedStates</td>\n",
       "      <td>2023-06-04</td>\n",
       "      <td>22:55:03</td>\n",
       "    </tr>\n",
       "    <tr>\n",
       "      <th>1</th>\n",
       "      <td>2023-06-04 22:40:03+00:00</td>\n",
       "      <td>1665488613130514432</td>\n",
       "      <td>1.7 magnitude #earthquake. 84 km ESE of Egegik...</td>\n",
       "      <td>QuakesToday</td>\n",
       "      <td>1.7</td>\n",
       "      <td>84 km ESE of Egegik</td>\n",
       "      <td>https://t.co/Sdx0vUplys</td>\n",
       "      <td>Alaska</td>\n",
       "      <td>2023-06-04</td>\n",
       "      <td>22:40:03</td>\n",
       "    </tr>\n",
       "    <tr>\n",
       "      <th>2</th>\n",
       "      <td>2023-06-04 22:23:03+00:00</td>\n",
       "      <td>1665484336316174339</td>\n",
       "      <td>5.0 magnitude #earthquake. 122 km from Itoman,...</td>\n",
       "      <td>QuakesToday</td>\n",
       "      <td>5.0</td>\n",
       "      <td>122 km from Itoman</td>\n",
       "      <td>https://t.co/lOyz1MVMIE</td>\n",
       "      <td>Japan</td>\n",
       "      <td>2023-06-04</td>\n",
       "      <td>22:23:03</td>\n",
       "    </tr>\n",
       "    <tr>\n",
       "      <th>3</th>\n",
       "      <td>2023-06-04 21:03:03+00:00</td>\n",
       "      <td>1665464203505975296</td>\n",
       "      <td>4.4 magnitude #earthquake. 222 km SSW of Dunhu...</td>\n",
       "      <td>QuakesToday</td>\n",
       "      <td>4.4</td>\n",
       "      <td>222 km SSW of Dunhuang</td>\n",
       "      <td>https://t.co/PRolgouAiG</td>\n",
       "      <td>China</td>\n",
       "      <td>2023-06-04</td>\n",
       "      <td>21:03:03</td>\n",
       "    </tr>\n",
       "    <tr>\n",
       "      <th>4</th>\n",
       "      <td>2023-06-04 20:27:03+00:00</td>\n",
       "      <td>1665455143066963968</td>\n",
       "      <td>4.1 magnitude #earthquake. 8 km from Abricots,...</td>\n",
       "      <td>QuakesToday</td>\n",
       "      <td>4.1</td>\n",
       "      <td>8 km from Abricots</td>\n",
       "      <td>https://t.co/XJta3g29Mu</td>\n",
       "      <td>Haiti</td>\n",
       "      <td>2023-06-04</td>\n",
       "      <td>20:27:03</td>\n",
       "    </tr>\n",
       "  </tbody>\n",
       "</table>\n",
       "</div>"
      ],
      "text/plain": [
       "                    Datetime             Tweet Id  \\\n",
       "0  2023-06-04 22:55:03+00:00  1665492389220487168   \n",
       "1  2023-06-04 22:40:03+00:00  1665488613130514432   \n",
       "2  2023-06-04 22:23:03+00:00  1665484336316174339   \n",
       "3  2023-06-04 21:03:03+00:00  1665464203505975296   \n",
       "4  2023-06-04 20:27:03+00:00  1665455143066963968   \n",
       "\n",
       "                                                Text     Username Magnitude  \\\n",
       "0  1.6 magnitude #earthquake. 38 km from Valdez, ...  QuakesToday       1.6   \n",
       "1  1.7 magnitude #earthquake. 84 km ESE of Egegik...  QuakesToday       1.7   \n",
       "2  5.0 magnitude #earthquake. 122 km from Itoman,...  QuakesToday       5.0   \n",
       "3  4.4 magnitude #earthquake. 222 km SSW of Dunhu...  QuakesToday       4.4   \n",
       "4  4.1 magnitude #earthquake. 8 km from Abricots,...  QuakesToday       4.1   \n",
       "\n",
       "                     Area                   Source         Country  \\\n",
       "0       38 km from Valdez  https://t.co/kXHXTDgnNx   UnitedStates    \n",
       "1     84 km ESE of Egegik  https://t.co/Sdx0vUplys         Alaska    \n",
       "2      122 km from Itoman  https://t.co/lOyz1MVMIE          Japan    \n",
       "3  222 km SSW of Dunhuang  https://t.co/PRolgouAiG          China    \n",
       "4      8 km from Abricots  https://t.co/XJta3g29Mu          Haiti    \n",
       "\n",
       "         Date      Time  \n",
       "0  2023-06-04  22:55:03  \n",
       "1  2023-06-04  22:40:03  \n",
       "2  2023-06-04  22:23:03  \n",
       "3  2023-06-04  21:03:03  \n",
       "4  2023-06-04  20:27:03  "
      ]
     },
     "execution_count": 120,
     "metadata": {},
     "output_type": "execute_result"
    }
   ],
   "source": [
    "#Changing the datatype of 'Datetime' and seperating the values in two different columns.\n",
    "\n",
    "df[\"Date\"] = pd.to_datetime(df[\"Datetime\"]).dt.date\n",
    "df[\"Time\"] = pd.to_datetime(df[\"Datetime\"]).dt.time\n",
    "\n",
    "df.head()"
   ]
  },
  {
   "cell_type": "markdown",
   "id": "5c77b02d",
   "metadata": {},
   "source": [
    "## Deleting unwanted columns"
   ]
  },
  {
   "cell_type": "markdown",
   "id": "f3e575ad",
   "metadata": {},
   "source": [
    "Now after all the editing, we have to delete the unwanted columns."
   ]
  },
  {
   "cell_type": "markdown",
   "id": "7f0cac4c",
   "metadata": {},
   "source": [
    "So, here I'll drop \"Text\", \"Username\", \"Datetime\" columns."
   ]
  },
  {
   "cell_type": "code",
   "execution_count": 121,
   "id": "924e7084",
   "metadata": {},
   "outputs": [
    {
     "data": {
      "text/html": [
       "<div>\n",
       "<style scoped>\n",
       "    .dataframe tbody tr th:only-of-type {\n",
       "        vertical-align: middle;\n",
       "    }\n",
       "\n",
       "    .dataframe tbody tr th {\n",
       "        vertical-align: top;\n",
       "    }\n",
       "\n",
       "    .dataframe thead th {\n",
       "        text-align: right;\n",
       "    }\n",
       "</style>\n",
       "<table border=\"1\" class=\"dataframe\">\n",
       "  <thead>\n",
       "    <tr style=\"text-align: right;\">\n",
       "      <th></th>\n",
       "      <th>Tweet Id</th>\n",
       "      <th>Magnitude</th>\n",
       "      <th>Area</th>\n",
       "      <th>Source</th>\n",
       "      <th>Country</th>\n",
       "      <th>Date</th>\n",
       "      <th>Time</th>\n",
       "    </tr>\n",
       "  </thead>\n",
       "  <tbody>\n",
       "    <tr>\n",
       "      <th>0</th>\n",
       "      <td>1665492389220487168</td>\n",
       "      <td>1.6</td>\n",
       "      <td>38 km from Valdez</td>\n",
       "      <td>https://t.co/kXHXTDgnNx</td>\n",
       "      <td>UnitedStates</td>\n",
       "      <td>2023-06-04</td>\n",
       "      <td>22:55:03</td>\n",
       "    </tr>\n",
       "    <tr>\n",
       "      <th>1</th>\n",
       "      <td>1665488613130514432</td>\n",
       "      <td>1.7</td>\n",
       "      <td>84 km ESE of Egegik</td>\n",
       "      <td>https://t.co/Sdx0vUplys</td>\n",
       "      <td>Alaska</td>\n",
       "      <td>2023-06-04</td>\n",
       "      <td>22:40:03</td>\n",
       "    </tr>\n",
       "    <tr>\n",
       "      <th>2</th>\n",
       "      <td>1665484336316174339</td>\n",
       "      <td>5.0</td>\n",
       "      <td>122 km from Itoman</td>\n",
       "      <td>https://t.co/lOyz1MVMIE</td>\n",
       "      <td>Japan</td>\n",
       "      <td>2023-06-04</td>\n",
       "      <td>22:23:03</td>\n",
       "    </tr>\n",
       "    <tr>\n",
       "      <th>3</th>\n",
       "      <td>1665464203505975296</td>\n",
       "      <td>4.4</td>\n",
       "      <td>222 km SSW of Dunhuang</td>\n",
       "      <td>https://t.co/PRolgouAiG</td>\n",
       "      <td>China</td>\n",
       "      <td>2023-06-04</td>\n",
       "      <td>21:03:03</td>\n",
       "    </tr>\n",
       "    <tr>\n",
       "      <th>4</th>\n",
       "      <td>1665455143066963968</td>\n",
       "      <td>4.1</td>\n",
       "      <td>8 km from Abricots</td>\n",
       "      <td>https://t.co/XJta3g29Mu</td>\n",
       "      <td>Haiti</td>\n",
       "      <td>2023-06-04</td>\n",
       "      <td>20:27:03</td>\n",
       "    </tr>\n",
       "  </tbody>\n",
       "</table>\n",
       "</div>"
      ],
      "text/plain": [
       "              Tweet Id Magnitude                    Area  \\\n",
       "0  1665492389220487168       1.6       38 km from Valdez   \n",
       "1  1665488613130514432       1.7     84 km ESE of Egegik   \n",
       "2  1665484336316174339       5.0      122 km from Itoman   \n",
       "3  1665464203505975296       4.4  222 km SSW of Dunhuang   \n",
       "4  1665455143066963968       4.1      8 km from Abricots   \n",
       "\n",
       "                    Source         Country        Date      Time  \n",
       "0  https://t.co/kXHXTDgnNx   UnitedStates   2023-06-04  22:55:03  \n",
       "1  https://t.co/Sdx0vUplys         Alaska   2023-06-04  22:40:03  \n",
       "2  https://t.co/lOyz1MVMIE          Japan   2023-06-04  22:23:03  \n",
       "3  https://t.co/PRolgouAiG          China   2023-06-04  21:03:03  \n",
       "4  https://t.co/XJta3g29Mu          Haiti   2023-06-04  20:27:03  "
      ]
     },
     "execution_count": 121,
     "metadata": {},
     "output_type": "execute_result"
    }
   ],
   "source": [
    "df.drop([\"Text\",\"Username\",\"Datetime\"], axis=1, inplace=True)\n",
    "\n",
    "df.head()"
   ]
  },
  {
   "cell_type": "code",
   "execution_count": 122,
   "id": "8b2ba1f0",
   "metadata": {},
   "outputs": [
    {
     "name": "stdout",
     "output_type": "stream",
     "text": [
      "<class 'pandas.core.frame.DataFrame'>\n",
      "RangeIndex: 13049 entries, 0 to 13048\n",
      "Data columns (total 7 columns):\n",
      " #   Column     Non-Null Count  Dtype \n",
      "---  ------     --------------  ----- \n",
      " 0   Tweet Id   13049 non-null  int64 \n",
      " 1   Magnitude  13049 non-null  object\n",
      " 2   Area       13049 non-null  object\n",
      " 3   Source     13049 non-null  object\n",
      " 4   Country    12451 non-null  object\n",
      " 5   Date       13049 non-null  object\n",
      " 6   Time       13049 non-null  object\n",
      "dtypes: int64(1), object(6)\n",
      "memory usage: 713.7+ KB\n"
     ]
    }
   ],
   "source": [
    "df.info()"
   ]
  },
  {
   "cell_type": "markdown",
   "id": "a63e0eb4",
   "metadata": {},
   "source": [
    "## Treating the missing values"
   ]
  },
  {
   "cell_type": "markdown",
   "id": "d8ec5e6c",
   "metadata": {},
   "source": [
    "After cleaning the data, we are good to go for treating the missing values present in the dataset."
   ]
  },
  {
   "cell_type": "code",
   "execution_count": 123,
   "id": "4d543b7f",
   "metadata": {},
   "outputs": [
    {
     "data": {
      "text/plain": [
       "Tweet Id       0\n",
       "Magnitude      0\n",
       "Area           0\n",
       "Source         0\n",
       "Country      598\n",
       "Date           0\n",
       "Time           0\n",
       "dtype: int64"
      ]
     },
     "execution_count": 123,
     "metadata": {},
     "output_type": "execute_result"
    }
   ],
   "source": [
    "df.isnull().sum()"
   ]
  },
  {
   "cell_type": "code",
   "execution_count": 124,
   "id": "078f2948",
   "metadata": {},
   "outputs": [
    {
     "data": {
      "text/plain": [
       " United States                        4501\n",
       " UnitedStates                         2920\n",
       " Alaska                               1820\n",
       " Puerto Rico                           776\n",
       " PuertoRico                            354\n",
       "                                      ... \n",
       " Jamaica                                 1\n",
       " Guadeloupe                              1\n",
       " Bangladesh                              1\n",
       " Montenegro                              1\n",
       " Democratic Republic of the Congo        1\n",
       "Name: Country, Length: 118, dtype: int64"
      ]
     },
     "execution_count": 124,
     "metadata": {},
     "output_type": "execute_result"
    }
   ],
   "source": [
    "df.Country.value_counts()"
   ]
  },
  {
   "cell_type": "code",
   "execution_count": 125,
   "id": "d0458e3d",
   "metadata": {},
   "outputs": [],
   "source": [
    "#Editing some strings in country column.\n",
    "\n",
    "df[\"Country\"] = df[\"Country\"].str.replace(\"UnitedStates\", \"United States\")"
   ]
  },
  {
   "cell_type": "code",
   "execution_count": 126,
   "id": "0d58177b",
   "metadata": {},
   "outputs": [],
   "source": [
    "df[\"Country\"] = df[\"Country\"].str.replace(\"PuertoRico\", \"Puerto Rico\")"
   ]
  },
  {
   "cell_type": "code",
   "execution_count": 127,
   "id": "8e047f17",
   "metadata": {},
   "outputs": [
    {
     "data": {
      "text/plain": [
       " United States                        7421\n",
       " Alaska                               1820\n",
       " Puerto Rico                          1130\n",
       " Indonesia                             220\n",
       " Japan                                 151\n",
       "                                      ... \n",
       " Guadeloupe                              1\n",
       " Zambia                                  1\n",
       " Bangladesh                              1\n",
       " Montenegro                              1\n",
       " Democratic Republic of the Congo        1\n",
       "Name: Country, Length: 116, dtype: int64"
      ]
     },
     "execution_count": 127,
     "metadata": {},
     "output_type": "execute_result"
    }
   ],
   "source": [
    "df[\"Country\"].value_counts()"
   ]
  },
  {
   "cell_type": "code",
   "execution_count": 128,
   "id": "20b43970",
   "metadata": {},
   "outputs": [
    {
     "data": {
      "text/plain": [
       "Tweet Id       0\n",
       "Magnitude      0\n",
       "Area           0\n",
       "Source         0\n",
       "Country      598\n",
       "Date           0\n",
       "Time           0\n",
       "dtype: int64"
      ]
     },
     "execution_count": 128,
     "metadata": {},
     "output_type": "execute_result"
    }
   ],
   "source": [
    "#Calculating number of missing values    \n",
    "\n",
    "df.isnull().sum()"
   ]
  },
  {
   "cell_type": "code",
   "execution_count": 106,
   "id": "766d41bc",
   "metadata": {},
   "outputs": [
    {
     "data": {
      "text/plain": [
       "4.58"
      ]
     },
     "execution_count": 106,
     "metadata": {},
     "output_type": "execute_result"
    }
   ],
   "source": [
    "#Calculating percentage of missing values in Country column.\n",
    "\n",
    "round(100*(df.Country.isnull().sum()/len(df.index)),2)"
   ]
  },
  {
   "cell_type": "markdown",
   "id": "ed730fc6",
   "metadata": {},
   "source": [
    "Only Country column contains the missing values. \n",
    "\n",
    "The percentage of missing values (4.58) is very low as compared to the length of Dataset.\n",
    "\n",
    "So, deleting all the rows having missing values won't cause us much. "
   ]
  },
  {
   "cell_type": "code",
   "execution_count": 110,
   "id": "a905362d",
   "metadata": {},
   "outputs": [],
   "source": [
    "#Droping rows having missing values.\n",
    "\n",
    "df = df[~df[\"Country\"].isnull()]"
   ]
  },
  {
   "cell_type": "code",
   "execution_count": 108,
   "id": "78a9930e",
   "metadata": {},
   "outputs": [
    {
     "data": {
      "text/plain": [
       "Tweet Id     0\n",
       "Magnitude    0\n",
       "Area         0\n",
       "Source       0\n",
       "Country      0\n",
       "Date         0\n",
       "Time         0\n",
       "dtype: int64"
      ]
     },
     "execution_count": 108,
     "metadata": {},
     "output_type": "execute_result"
    }
   ],
   "source": [
    "df.isnull().sum()"
   ]
  },
  {
   "cell_type": "code",
   "execution_count": 109,
   "id": "c060b920",
   "metadata": {},
   "outputs": [
    {
     "data": {
      "text/plain": [
       "0.0"
      ]
     },
     "execution_count": 109,
     "metadata": {},
     "output_type": "execute_result"
    }
   ],
   "source": [
    "round(100*(df.Country.isnull().sum()/len(df.index)),2)"
   ]
  },
  {
   "cell_type": "markdown",
   "id": "b08998e0",
   "metadata": {},
   "source": [
    "Hence, now all the data is cleaned perfectly."
   ]
  },
  {
   "cell_type": "markdown",
   "id": "05984f79",
   "metadata": {},
   "source": [
    "We, also have manipulated the dataset as we wanted"
   ]
  },
  {
   "cell_type": "markdown",
   "id": "93109e2c",
   "metadata": {},
   "source": [
    "Now, we are good to start doing visualizations on this dataset. \n",
    "For that first I'll convert this dataframe into 'csv' format by using 'df.to_csv'.\n",
    "\n",
    "Then upload the csv file in Power BI desktop for further visualization."
   ]
  }
 ],
 "metadata": {
  "kernelspec": {
   "display_name": "Python 3 (ipykernel)",
   "language": "python",
   "name": "python3"
  },
  "language_info": {
   "codemirror_mode": {
    "name": "ipython",
    "version": 3
   },
   "file_extension": ".py",
   "mimetype": "text/x-python",
   "name": "python",
   "nbconvert_exporter": "python",
   "pygments_lexer": "ipython3",
   "version": "3.9.13"
  }
 },
 "nbformat": 4,
 "nbformat_minor": 5
}
